{
 "cells": [
  {
   "cell_type": "code",
   "execution_count": null,
   "id": "621400a8",
   "metadata": {},
   "outputs": [],
   "source": [
    "import pandas as pd\n",
    "import shap\n",
    "import matplotlib.pyplot as plt\n",
    "from sklearn.model_selection import train_test_split\n",
    "from xgboost import XGBClassifier\n"
   ]
  },
  {
   "cell_type": "code",
   "execution_count": null,
   "id": "e24e8e72",
   "metadata": {},
   "outputs": [],
   "source": [
    "# Load the Fraud_Data.csv (or use creditcard.csv if you prefer)\n",
    "df = pd.read_csv(\"../data/Fraud_Data.csv\")\n",
    "\n",
    "# Separate features and target\n",
    "X = df.drop(\"class\", axis=1)\n",
    "y = df[\"class\"]\n"
   ]
  },
  {
   "cell_type": "code",
   "execution_count": null,
   "id": "79baec98",
   "metadata": {},
   "outputs": [],
   "source": [
    "# Split the dataset\n",
    "X_train, X_test, y_train, y_test = train_test_split(\n",
    "    X, y, stratify=y, test_size=0.2, random_state=42\n",
    ")\n",
    "\n",
    "# Train XGBoost (best model from Task 2)\n",
    "model = XGBClassifier(use_label_encoder=False, eval_metric=\"logloss\", random_state=42)\n",
    "model.fit(X_train, y_train)\n"
   ]
  },
  {
   "cell_type": "code",
   "execution_count": null,
   "id": "38c914cc",
   "metadata": {},
   "outputs": [],
   "source": [
    "# Create SHAP Explainer\n",
    "explainer = shap.Explainer(model, X_train)\n",
    "\n",
    "# Compute SHAP values for test data\n",
    "shap_values = explainer(X_test)\n",
    "shap_values.shape\n"
   ]
  },
  {
   "cell_type": "code",
   "execution_count": null,
   "id": "7991cb9e",
   "metadata": {},
   "outputs": [],
   "source": [
    "shap.summary_plot(shap_values, X_test)\n"
   ]
  },
  {
   "cell_type": "code",
   "execution_count": null,
   "id": "e358d061",
   "metadata": {},
   "outputs": [],
   "source": [
    "# # Pick a sample from the test set\n",
    "# sample_idx = 0  \n",
    "\n",
    "# # Display force plot (interactive in Jupyter)\n",
    "# shap.force_plot(\n",
    "#     explainer.expected_value, # type: ignore\n",
    "#     shap_values[sample_idx, :], \n",
    "#     X_test.iloc[sample_idx, :]\n",
    "# )\n",
    "\n",
    "\n",
    "sample_idx = 0\n",
    "\n",
    "shap.force_plot(\n",
    "    shap_values.base_values[sample_idx],  # Use base_values instead of expected_value\n",
    "    shap_values[sample_idx, :],\n",
    "    X_test.iloc[sample_idx, :]\n",
    ")\n"
   ]
  },
  {
   "cell_type": "code",
   "execution_count": null,
   "id": "535173c3",
   "metadata": {},
   "outputs": [],
   "source": [
    "plt.savefig(\"../outputs/shap_summary_plot.png\", bbox_inches=\"tight\")\n"
   ]
  }
 ],
 "metadata": {
  "language_info": {
   "name": "python"
  }
 },
 "nbformat": 4,
 "nbformat_minor": 5
}
